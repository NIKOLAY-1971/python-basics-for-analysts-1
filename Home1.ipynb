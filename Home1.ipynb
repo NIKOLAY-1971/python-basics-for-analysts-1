{
 "cells": [
  {
   "cell_type": "markdown",
   "id": "11ed0f01",
   "metadata": {},
   "source": [
    "## Задача2"
   ]
  },
  {
   "cell_type": "code",
   "execution_count": 46,
   "id": "a5293ac9",
   "metadata": {
    "scrolled": true
   },
   "outputs": [
    {
     "data": {
      "text/plain": [
       "18"
      ]
     },
     "execution_count": 46,
     "metadata": {},
     "output_type": "execute_result"
    }
   ],
   "source": [
    "# На складе лежат разные фрукты в разном количестве.\n",
    "# Нужно написать функцию, которая на вход принимает любое количество названий фруктов и их количество, \n",
    "# а возвращает общее количество фруктов на складе\n",
    "\n",
    "def sum_fruits(**total_fruits):\n",
    "    return sum(total_fruits.values())\n",
    "     \n",
    "sum_fruits(banana = 1, mango = 9, apple = 8)"
   ]
  },
  {
   "cell_type": "markdown",
   "id": "4ababf3b",
   "metadata": {},
   "source": [
    "## Задача3"
   ]
  },
  {
   "cell_type": "code",
   "execution_count": 47,
   "id": "527400b8",
   "metadata": {},
   "outputs": [
    {
     "data": {
      "text/plain": [
       "1425"
      ]
     },
     "execution_count": 47,
     "metadata": {},
     "output_type": "execute_result"
    }
   ],
   "source": [
    "# Дан список с затратами на рекламу. Но в данных есть ошибки, \n",
    "# некоторые затраты имеют отрицательную величину. \n",
    "# Удалите такие значения из списка и посчитайте суммарные затраты\n",
    "# [100, 125, -90, 345, 655, -1, 0, 200]\n",
    "# Используйте list comprehensions\n",
    "marketing_costs = [100, 125, -90, 345, 655, -1, 0, 200]\n",
    "sum([i for i in marketing_costs if i>0])"
   ]
  },
  {
   "cell_type": "markdown",
   "id": "30afcc71",
   "metadata": {},
   "source": [
    "## Задача4"
   ]
  },
  {
   "cell_type": "code",
   "execution_count": null,
   "id": "0cc4b482",
   "metadata": {},
   "outputs": [],
   "source": [
    "# Даны два списка.\n",
    "# Дата покупки\n",
    "# ['2021-09-14', '2021-12-15', '2021-09-08', '2021-12-05', '2021-10-09', '2021-09-30', '2021-12-22', '2021-11-29', '2021-12-24', '2021-11-26', '2021-10-27', '2021-12-18', '2021-11-09', '2021-11-23', '2021-09-27', '2021-10-02', '2021-12-27', '2021-09-20', '2021-12-13', '2021-11-01', '2021-11-09', '2021-12-06', '2021-12-08', '2021-10-09', '2021-10-31', '2021-09-30', '2021-11-09', '2021-12-13', '2021-10-26', '2021-12-09']\n",
    "# Суммы покупок по датам\n",
    "# [1270, 8413, 9028, 3703, 5739, 4095, 295, 4944, 5723, 3701, 4471, 651, 7037, 4274, 6275, 4988, 6930, 2971, 6592, 2004, 2822, 519, 3406, 2732, 5015, 2008, 316, 6333, 5700, 2887]"
   ]
  },
  {
   "cell_type": "markdown",
   "id": "9fce8218",
   "metadata": {},
   "source": [
    "### 4.1 Найдите, какая выручка у компании в ноябре"
   ]
  },
  {
   "cell_type": "code",
   "execution_count": 48,
   "id": "4daa6bbd",
   "metadata": {},
   "outputs": [
    {
     "data": {
      "text/plain": [
       "25098"
      ]
     },
     "execution_count": 48,
     "metadata": {},
     "output_type": "execute_result"
    }
   ],
   "source": [
    "# Используйте list comprehensions\n",
    "date = ['2021-09-14', '2021-12-15', '2021-09-08', '2021-12-05', '2021-10-09', '2021-09-30', '2021-12-22', '2021-11-29', '2021-12-24', '2021-11-26', '2021-10-27', '2021-12-18', '2021-11-09', '2021-11-23', '2021-09-27', '2021-10-02', '2021-12-27', '2021-09-20', '2021-12-13', '2021-11-01', '2021-11-09', '2021-12-06', '2021-12-08', '2021-10-09', '2021-10-31', '2021-09-30', '2021-11-09', '2021-12-13', '2021-10-26', '2021-12-09']\n",
    "purchase_amount = [1270, 8413, 9028, 3703, 5739, 4095, 295, 4944, 5723, 3701, 4471, 651, 7037, 4274, 6275, 4988, 6930, 2971, 6592, 2004, 2822, 519, 3406, 2732, 5015, 2008, 316, 6333, 5700, 2887]\n",
    "sum([purchase_amount[i] for i in range(len(date)) if date[i].split('-')[1]=='11'])"
   ]
  },
  {
   "cell_type": "markdown",
   "id": "b94e1f8b",
   "metadata": {},
   "source": [
    "### 4.2 Найдите выручку компании в зависимости от месяца"
   ]
  },
  {
   "cell_type": "code",
   "execution_count": 45,
   "id": "6c3feed8",
   "metadata": {},
   "outputs": [
    {
     "data": {
      "text/plain": [
       "{'09': 25647, '12': 45452, '10': 28645, '11': 25098}"
      ]
     },
     "execution_count": 45,
     "metadata": {},
     "output_type": "execute_result"
    }
   ],
   "source": [
    "# Для этого напишите функцию, которая на вход принимает список с датами и список с выручкой, \n",
    "# а на выходе словарь, где ключи - это месяцы, а значения - это выручка.\n",
    "# Используйте аннотирование типов.\n",
    "from typing import List, Dict\n",
    "\n",
    "def company_revenue(date : List, purchase_amount : List) -> Dict:\n",
    "    monthly_revenue = {}\n",
    "    for i in range(len(date)):\n",
    "        month = date[i].split('-')[1]\n",
    "        if month in monthly_revenue.keys():\n",
    "            monthly_revenue[month] += purchase_amount[i]\n",
    "        else:\n",
    "            monthly_revenue[month] = purchase_amount[i]\n",
    "    return monthly_revenue\n",
    "\n",
    "# date = ['2021-09-14', '2021-12-15', '2021-09-08', '2021-12-05', '2021-10-09', '2021-09-30', '2021-12-22', '2021-11-29', '2021-12-24', '2021-11-26', '2021-10-27', '2021-12-18', '2021-11-09', '2021-11-23', '2021-09-27', '2021-10-02', '2021-12-27', '2021-09-20', '2021-12-13', '2021-11-01', '2021-11-09', '2021-12-06', '2021-12-08', '2021-10-09', '2021-10-31', '2021-09-30', '2021-11-09', '2021-12-13', '2021-10-26', '2021-12-09']\n",
    "# purchase_amount = [1270, 8413, 9028, 3703, 5739, 4095, 295, 4944, 5723, 3701, 4471, 651, 7037, 4274, 6275, 4988, 6930, 2971, 6592, 2004, 2822, 519, 3406, 2732, 5015, 2008, 316, 6333, 5700, 2887]\n",
    "\n",
    "company_revenue(date, purchase_amount)"
   ]
  }
 ],
 "metadata": {
  "kernelspec": {
   "display_name": "Python 3 (ipykernel)",
   "language": "python",
   "name": "python3"
  },
  "language_info": {
   "codemirror_mode": {
    "name": "ipython",
    "version": 3
   },
   "file_extension": ".py",
   "mimetype": "text/x-python",
   "name": "python",
   "nbconvert_exporter": "python",
   "pygments_lexer": "ipython3",
   "version": "3.9.13"
  }
 },
 "nbformat": 4,
 "nbformat_minor": 5
}
